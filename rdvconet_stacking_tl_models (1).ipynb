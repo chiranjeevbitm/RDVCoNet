{
 "cells": [
  {
   "cell_type": "markdown",
   "metadata": {
    "id": "5k681gMJnm4n",
    "papermill": {
     "duration": 0.030663,
     "end_time": "2022-01-11T14:27:49.424548",
     "exception": false,
     "start_time": "2022-01-11T14:27:49.393885",
     "status": "completed"
    },
    "tags": []
   },
   "source": [
    "## Importing Required Libraries"
   ]
  },
  {
   "cell_type": "code",
   "execution_count": 1,
   "metadata": {
    "colab": {
     "base_uri": "https://localhost:8080/"
    },
    "id": "cdFr4JXcnsp6",
    "outputId": "21916bc7-0f4f-46ae-a377-237dc51633ef"
   },
   "outputs": [
    {
     "name": "stdout",
     "output_type": "stream",
     "text": [
      "Mounted at /content/drive\n"
     ]
    }
   ],
   "source": [
    "from google.colab import drive\n",
    "drive.mount('/content/drive')"
   ]
  },
  {
   "cell_type": "code",
   "execution_count": 2,
   "metadata": {
    "execution": {
     "iopub.execute_input": "2022-10-13T06:32:43.560434Z",
     "iopub.status.busy": "2022-10-13T06:32:43.559454Z",
     "iopub.status.idle": "2022-10-13T06:32:43.570020Z",
     "shell.execute_reply": "2022-10-13T06:32:43.569052Z",
     "shell.execute_reply.started": "2022-10-13T06:32:43.560384Z"
    },
    "id": "k5nSBj6jnm4p",
    "papermill": {
     "duration": 6.948284,
     "end_time": "2022-01-11T14:27:56.397804",
     "exception": false,
     "start_time": "2022-01-11T14:27:49.449520",
     "status": "completed"
    },
    "tags": []
   },
   "outputs": [],
   "source": [
    "import numpy as np\n",
    "import pandas as pd\n",
    "\n",
    "import matplotlib.pyplot as plt\n",
    "import seaborn as sns\n",
    "sns.set_style('darkgrid')\n",
    "import matplotlib.image as mpimg\n",
    "from matplotlib.offsetbox import OffsetImage, AnnotationBbox\n",
    "from glob import glob\n",
    "from PIL import Image\n",
    "import os\n",
    "import random\n",
    "import cv2\n",
    "\n",
    "import os\n",
    "import random\n",
    "import keras\n",
    "\n",
    "import warnings\n",
    "warnings.filterwarnings('ignore')\n",
    "\n",
    "from sklearn.model_selection import train_test_split\n",
    "\n",
    "from tensorflow.keras.preprocessing.image import load_img\n",
    "from tensorflow.keras.preprocessing.image import img_to_array\n",
    "from tensorflow.keras.preprocessing.image import ImageDataGenerator\n",
    "import tensorflow as tf\n",
    "from tensorflow.keras.layers import Dense, Flatten, AveragePooling2D, Dropout\n",
    "from tensorflow.keras.optimizers import Adam\n",
    "from tensorflow.keras.applications.vgg16 import VGG16\n",
    "from tensorflow.keras.models import Model\n",
    "from tensorflow.keras.models import Sequential\n",
    "from keras.metrics import PrecisionAtRecall,Recall \n",
    "#Model Analysis\n",
    "from sklearn.metrics import confusion_matrix\n",
    "from sklearn.metrics import precision_recall_fscore_support, accuracy_score\n",
    "from tensorflow.keras.metrics import TruePositives, FalsePositives, TrueNegatives, FalseNegatives, Precision, Recall, AUC"
   ]
  },
  {
   "cell_type": "markdown",
   "metadata": {
    "id": "xn-kit2anm4q",
    "papermill": {
     "duration": 0.023772,
     "end_time": "2022-01-11T14:27:56.445984",
     "exception": false,
     "start_time": "2022-01-11T14:27:56.422212",
     "status": "completed"
    },
    "tags": []
   },
   "source": [
    "## Extracting Files"
   ]
  },
  {
   "cell_type": "code",
   "execution_count": 3,
   "metadata": {
    "execution": {
     "iopub.execute_input": "2022-10-13T06:32:43.577790Z",
     "iopub.status.busy": "2022-10-13T06:32:43.576704Z",
     "iopub.status.idle": "2022-10-13T06:32:43.583085Z",
     "shell.execute_reply": "2022-10-13T06:32:43.582171Z",
     "shell.execute_reply.started": "2022-10-13T06:32:43.577756Z"
    },
    "id": "W5snq7Jdnm4r",
    "papermill": {
     "duration": 0.032006,
     "end_time": "2022-01-11T14:27:56.503018",
     "exception": false,
     "start_time": "2022-01-11T14:27:56.471012",
     "status": "completed"
    },
    "tags": []
   },
   "outputs": [],
   "source": [
    "# c = '../input/covid19-radiography-database/COVID-19_Radiography_Dataset/COVID/images'\n",
    "# n = '../input/covid19-radiography-database/COVID-19_Radiography_Dataset/Normal/images'\n",
    "# p = '../input/covid19-radiography-database/COVID-19_Radiography_Dataset/Viral Pneumonia/images'\n",
    "\n",
    "c = '/content/drive/Othercomputers/My MacBook Air/Upgrad ML/LJMU_MS/Model Building/COVID-19_Radiography_Dataset/COVID/images'\n",
    "n = '/content/drive/Othercomputers/My MacBook Air/Upgrad ML/LJMU_MS/Model Building/COVID-19_Radiography_Dataset/Normal/images'\n",
    "p = '/content/drive/Othercomputers/My MacBook Air/Upgrad ML/LJMU_MS/Model Building/COVID-19_Radiography_Dataset/Viral Pneumonia/images'"
   ]
  },
  {
   "cell_type": "code",
   "execution_count": 4,
   "metadata": {
    "execution": {
     "iopub.execute_input": "2022-10-13T06:32:43.587867Z",
     "iopub.status.busy": "2022-10-13T06:32:43.587288Z",
     "iopub.status.idle": "2022-10-13T06:32:43.611917Z",
     "shell.execute_reply": "2022-10-13T06:32:43.611092Z",
     "shell.execute_reply.started": "2022-10-13T06:32:43.587840Z"
    },
    "id": "MqQma2LOnm4r",
    "papermill": {
     "duration": 0.804938,
     "end_time": "2022-01-11T14:27:57.332658",
     "exception": false,
     "start_time": "2022-01-11T14:27:56.527720",
     "status": "completed"
    },
    "tags": []
   },
   "outputs": [],
   "source": [
    "random.seed(42)\n",
    "filenames = random.sample(os.listdir(c), 2000) + random.sample(os.listdir(n), 2000) + os.listdir(p)"
   ]
  },
  {
   "cell_type": "code",
   "execution_count": 5,
   "metadata": {
    "colab": {
     "base_uri": "https://localhost:8080/"
    },
    "execution": {
     "iopub.execute_input": "2022-10-13T06:32:43.614059Z",
     "iopub.status.busy": "2022-10-13T06:32:43.613724Z",
     "iopub.status.idle": "2022-10-13T06:32:43.622290Z",
     "shell.execute_reply": "2022-10-13T06:32:43.621406Z",
     "shell.execute_reply.started": "2022-10-13T06:32:43.614025Z"
    },
    "id": "CaQ4HW6snm4r",
    "outputId": "0ee2b542-2497-4415-fd5d-de92f693e115"
   },
   "outputs": [
    {
     "data": {
      "text/plain": [
       "5345"
      ]
     },
     "execution_count": 5,
     "metadata": {},
     "output_type": "execute_result"
    }
   ],
   "source": [
    "len(filenames)"
   ]
  },
  {
   "cell_type": "code",
   "execution_count": 5,
   "metadata": {
    "id": "eI3VDWranm4s"
   },
   "outputs": [],
   "source": []
  },
  {
   "cell_type": "markdown",
   "metadata": {
    "id": "abLTMBqsnm4s",
    "papermill": {
     "duration": 0.024439,
     "end_time": "2022-01-11T14:27:57.382294",
     "exception": false,
     "start_time": "2022-01-11T14:27:57.357855",
     "status": "completed"
    },
    "tags": []
   },
   "source": [
    "### Classes\n",
    "* 0 -> Normal\n",
    "* 1 -> Viral Pneumonia\n",
    "* 2 -> COVID"
   ]
  },
  {
   "cell_type": "code",
   "execution_count": 6,
   "metadata": {
    "colab": {
     "base_uri": "https://localhost:8080/"
    },
    "execution": {
     "iopub.execute_input": "2022-10-13T06:32:43.624844Z",
     "iopub.status.busy": "2022-10-13T06:32:43.624054Z",
     "iopub.status.idle": "2022-10-13T06:32:43.636223Z",
     "shell.execute_reply": "2022-10-13T06:32:43.635229Z",
     "shell.execute_reply.started": "2022-10-13T06:32:43.624810Z"
    },
    "id": "DHLabItcnm4s",
    "outputId": "7f9e36c3-3a71-44f1-bbad-072e68165fe7",
    "papermill": {
     "duration": 0.041056,
     "end_time": "2022-01-11T14:27:57.447543",
     "exception": false,
     "start_time": "2022-01-11T14:27:57.406487",
     "status": "completed"
    },
    "tags": []
   },
   "outputs": [
    {
     "name": "stdout",
     "output_type": "stream",
     "text": [
      "CPU times: user 3.64 ms, sys: 52 µs, total: 3.7 ms\n",
      "Wall time: 3.56 ms\n"
     ]
    }
   ],
   "source": [
    "%%time\n",
    "categories = []\n",
    "for filename in filenames:\n",
    "    category = filename.split('-')[0]\n",
    "    if category == 'COVID':\n",
    "        categories.append(str(2))\n",
    "    elif category == 'Viral Pneumonia':\n",
    "        categories.append(str(1))\n",
    "    else:\n",
    "        categories.append(str(0))"
   ]
  },
  {
   "cell_type": "markdown",
   "metadata": {
    "id": "G5nnXlJrnm4s",
    "papermill": {
     "duration": 0.023661,
     "end_time": "2022-01-11T14:27:57.496572",
     "exception": false,
     "start_time": "2022-01-11T14:27:57.472911",
     "status": "completed"
    },
    "tags": []
   },
   "source": [
    "## Converting to Dataframe"
   ]
  },
  {
   "cell_type": "code",
   "execution_count": 7,
   "metadata": {
    "colab": {
     "base_uri": "https://localhost:8080/"
    },
    "execution": {
     "iopub.execute_input": "2022-10-13T06:32:43.638994Z",
     "iopub.status.busy": "2022-10-13T06:32:43.638086Z",
     "iopub.status.idle": "2022-10-13T06:32:43.661081Z",
     "shell.execute_reply": "2022-10-13T06:32:43.659893Z",
     "shell.execute_reply.started": "2022-10-13T06:32:43.638954Z"
    },
    "id": "VY8gksOQnm4t",
    "outputId": "f1f4362e-ff4b-4c64-f630-92e58ef2a9fc",
    "papermill": {
     "duration": 0.06455,
     "end_time": "2022-01-11T14:27:57.585524",
     "exception": false,
     "start_time": "2022-01-11T14:27:57.520974",
     "status": "completed"
    },
    "tags": []
   },
   "outputs": [
    {
     "name": "stdout",
     "output_type": "stream",
     "text": [
      "CPU times: user 11.6 ms, sys: 866 µs, total: 12.4 ms\n",
      "Wall time: 12.7 ms\n"
     ]
    }
   ],
   "source": [
    "%%time\n",
    "for i in range(len(filenames)):\n",
    "    if 'COVID' in filenames[i]:\n",
    "        filenames[i] = os.path.join(c, filenames[i])\n",
    "    elif 'Viral Pneumonia' in filenames[i]:\n",
    "        filenames[i] = os.path.join(p, filenames[i])\n",
    "    else:\n",
    "        filenames[i] = os.path.join(n, filenames[i])\n",
    "    \n",
    "    \n",
    "df = pd.DataFrame({\n",
    "    'filename': filenames,\n",
    "    'category': categories\n",
    "})"
   ]
  },
  {
   "cell_type": "code",
   "execution_count": 8,
   "metadata": {
    "colab": {
     "base_uri": "https://localhost:8080/",
     "height": 206
    },
    "execution": {
     "iopub.execute_input": "2022-10-13T06:32:43.663455Z",
     "iopub.status.busy": "2022-10-13T06:32:43.663030Z",
     "iopub.status.idle": "2022-10-13T06:32:43.674837Z",
     "shell.execute_reply": "2022-10-13T06:32:43.673801Z",
     "shell.execute_reply.started": "2022-10-13T06:32:43.663423Z"
    },
    "id": "7fEaXr2Snm4t",
    "outputId": "5e79fd45-7eec-4910-e162-45bce5df5ff9",
    "papermill": {
     "duration": 0.048803,
     "end_time": "2022-01-11T14:27:57.659609",
     "exception": false,
     "start_time": "2022-01-11T14:27:57.610806",
     "status": "completed"
    },
    "tags": []
   },
   "outputs": [
    {
     "data": {
      "text/html": [
       "\n",
       "  <div id=\"df-65f96663-552e-4797-a530-8245d902e393\">\n",
       "    <div class=\"colab-df-container\">\n",
       "      <div>\n",
       "<style scoped>\n",
       "    .dataframe tbody tr th:only-of-type {\n",
       "        vertical-align: middle;\n",
       "    }\n",
       "\n",
       "    .dataframe tbody tr th {\n",
       "        vertical-align: top;\n",
       "    }\n",
       "\n",
       "    .dataframe thead th {\n",
       "        text-align: right;\n",
       "    }\n",
       "</style>\n",
       "<table border=\"1\" class=\"dataframe\">\n",
       "  <thead>\n",
       "    <tr style=\"text-align: right;\">\n",
       "      <th></th>\n",
       "      <th>filename</th>\n",
       "      <th>category</th>\n",
       "    </tr>\n",
       "  </thead>\n",
       "  <tbody>\n",
       "    <tr>\n",
       "      <th>0</th>\n",
       "      <td>/content/drive/Othercomputers/My MacBook Air/U...</td>\n",
       "      <td>2</td>\n",
       "    </tr>\n",
       "    <tr>\n",
       "      <th>1</th>\n",
       "      <td>/content/drive/Othercomputers/My MacBook Air/U...</td>\n",
       "      <td>2</td>\n",
       "    </tr>\n",
       "    <tr>\n",
       "      <th>2</th>\n",
       "      <td>/content/drive/Othercomputers/My MacBook Air/U...</td>\n",
       "      <td>2</td>\n",
       "    </tr>\n",
       "    <tr>\n",
       "      <th>3</th>\n",
       "      <td>/content/drive/Othercomputers/My MacBook Air/U...</td>\n",
       "      <td>2</td>\n",
       "    </tr>\n",
       "    <tr>\n",
       "      <th>4</th>\n",
       "      <td>/content/drive/Othercomputers/My MacBook Air/U...</td>\n",
       "      <td>2</td>\n",
       "    </tr>\n",
       "  </tbody>\n",
       "</table>\n",
       "</div>\n",
       "      <button class=\"colab-df-convert\" onclick=\"convertToInteractive('df-65f96663-552e-4797-a530-8245d902e393')\"\n",
       "              title=\"Convert this dataframe to an interactive table.\"\n",
       "              style=\"display:none;\">\n",
       "        \n",
       "  <svg xmlns=\"http://www.w3.org/2000/svg\" height=\"24px\"viewBox=\"0 0 24 24\"\n",
       "       width=\"24px\">\n",
       "    <path d=\"M0 0h24v24H0V0z\" fill=\"none\"/>\n",
       "    <path d=\"M18.56 5.44l.94 2.06.94-2.06 2.06-.94-2.06-.94-.94-2.06-.94 2.06-2.06.94zm-11 1L8.5 8.5l.94-2.06 2.06-.94-2.06-.94L8.5 2.5l-.94 2.06-2.06.94zm10 10l.94 2.06.94-2.06 2.06-.94-2.06-.94-.94-2.06-.94 2.06-2.06.94z\"/><path d=\"M17.41 7.96l-1.37-1.37c-.4-.4-.92-.59-1.43-.59-.52 0-1.04.2-1.43.59L10.3 9.45l-7.72 7.72c-.78.78-.78 2.05 0 2.83L4 21.41c.39.39.9.59 1.41.59.51 0 1.02-.2 1.41-.59l7.78-7.78 2.81-2.81c.8-.78.8-2.07 0-2.86zM5.41 20L4 18.59l7.72-7.72 1.47 1.35L5.41 20z\"/>\n",
       "  </svg>\n",
       "      </button>\n",
       "      \n",
       "  <style>\n",
       "    .colab-df-container {\n",
       "      display:flex;\n",
       "      flex-wrap:wrap;\n",
       "      gap: 12px;\n",
       "    }\n",
       "\n",
       "    .colab-df-convert {\n",
       "      background-color: #E8F0FE;\n",
       "      border: none;\n",
       "      border-radius: 50%;\n",
       "      cursor: pointer;\n",
       "      display: none;\n",
       "      fill: #1967D2;\n",
       "      height: 32px;\n",
       "      padding: 0 0 0 0;\n",
       "      width: 32px;\n",
       "    }\n",
       "\n",
       "    .colab-df-convert:hover {\n",
       "      background-color: #E2EBFA;\n",
       "      box-shadow: 0px 1px 2px rgba(60, 64, 67, 0.3), 0px 1px 3px 1px rgba(60, 64, 67, 0.15);\n",
       "      fill: #174EA6;\n",
       "    }\n",
       "\n",
       "    [theme=dark] .colab-df-convert {\n",
       "      background-color: #3B4455;\n",
       "      fill: #D2E3FC;\n",
       "    }\n",
       "\n",
       "    [theme=dark] .colab-df-convert:hover {\n",
       "      background-color: #434B5C;\n",
       "      box-shadow: 0px 1px 3px 1px rgba(0, 0, 0, 0.15);\n",
       "      filter: drop-shadow(0px 1px 2px rgba(0, 0, 0, 0.3));\n",
       "      fill: #FFFFFF;\n",
       "    }\n",
       "  </style>\n",
       "\n",
       "      <script>\n",
       "        const buttonEl =\n",
       "          document.querySelector('#df-65f96663-552e-4797-a530-8245d902e393 button.colab-df-convert');\n",
       "        buttonEl.style.display =\n",
       "          google.colab.kernel.accessAllowed ? 'block' : 'none';\n",
       "\n",
       "        async function convertToInteractive(key) {\n",
       "          const element = document.querySelector('#df-65f96663-552e-4797-a530-8245d902e393');\n",
       "          const dataTable =\n",
       "            await google.colab.kernel.invokeFunction('convertToInteractive',\n",
       "                                                     [key], {});\n",
       "          if (!dataTable) return;\n",
       "\n",
       "          const docLinkHtml = 'Like what you see? Visit the ' +\n",
       "            '<a target=\"_blank\" href=https://colab.research.google.com/notebooks/data_table.ipynb>data table notebook</a>'\n",
       "            + ' to learn more about interactive tables.';\n",
       "          element.innerHTML = '';\n",
       "          dataTable['output_type'] = 'display_data';\n",
       "          await google.colab.output.renderOutput(dataTable, element);\n",
       "          const docLink = document.createElement('div');\n",
       "          docLink.innerHTML = docLinkHtml;\n",
       "          element.appendChild(docLink);\n",
       "        }\n",
       "      </script>\n",
       "    </div>\n",
       "  </div>\n",
       "  "
      ],
      "text/plain": [
       "                                            filename category\n",
       "0  /content/drive/Othercomputers/My MacBook Air/U...        2\n",
       "1  /content/drive/Othercomputers/My MacBook Air/U...        2\n",
       "2  /content/drive/Othercomputers/My MacBook Air/U...        2\n",
       "3  /content/drive/Othercomputers/My MacBook Air/U...        2\n",
       "4  /content/drive/Othercomputers/My MacBook Air/U...        2"
      ]
     },
     "execution_count": 8,
     "metadata": {},
     "output_type": "execute_result"
    }
   ],
   "source": [
    "df.head()"
   ]
  },
  {
   "cell_type": "code",
   "execution_count": 8,
   "metadata": {
    "id": "TM_W7pwqYZqJ"
   },
   "outputs": [],
   "source": []
  },
  {
   "cell_type": "markdown",
   "metadata": {
    "id": "e2sSq_UcYi6k"
   },
   "source": [
    "## Splitting Train, Validation & Test Data"
   ]
  },
  {
   "cell_type": "code",
   "execution_count": 9,
   "metadata": {
    "id": "OYX7kGDlYZtI"
   },
   "outputs": [],
   "source": [
    "train_data, test_valid_data = train_test_split(df, test_size=0.3, random_state = 42, shuffle=True, stratify=df['category'])\n",
    "train_data = train_data.reset_index(drop=True)\n",
    "test_valid_data = test_valid_data.reset_index(drop=True)"
   ]
  },
  {
   "cell_type": "code",
   "execution_count": 10,
   "metadata": {
    "id": "cWFOV6lZYZwg"
   },
   "outputs": [],
   "source": [
    "test_data, valid_data = train_test_split(test_valid_data, test_size=0.5, random_state = 42,\n",
    "                                         shuffle=True, stratify=test_valid_data['category'])\n",
    "test_data = test_data.reset_index(drop=True)\n",
    "valid_data = valid_data.reset_index(drop=True)"
   ]
  },
  {
   "cell_type": "code",
   "execution_count": 11,
   "metadata": {
    "colab": {
     "base_uri": "https://localhost:8080/"
    },
    "id": "cP1dp-DZYZz5",
    "outputId": "ef76eb9c-5e2f-449b-ab47-344ffa3b8821"
   },
   "outputs": [
    {
     "name": "stdout",
     "output_type": "stream",
     "text": [
      "CPU times: user 46 µs, sys: 8 µs, total: 54 µs\n",
      "Wall time: 56 µs\n"
     ]
    }
   ],
   "source": [
    "%%time\n",
    "train_data_gen = ImageDataGenerator(\n",
    "    rotation_range=15,\n",
    "    rescale=1./255,\n",
    "    shear_range=0.1,\n",
    "    zoom_range=0.2,\n",
    "    horizontal_flip=True,\n",
    "    width_shift_range=0.1,\n",
    "    height_shift_range=0.1\n",
    ")"
   ]
  },
  {
   "cell_type": "code",
   "execution_count": 12,
   "metadata": {
    "colab": {
     "base_uri": "https://localhost:8080/"
    },
    "id": "lzuNhjP5YZ3B",
    "outputId": "9ba07651-a236-4e20-9f37-1160337295a0"
   },
   "outputs": [
    {
     "name": "stdout",
     "output_type": "stream",
     "text": [
      "Found 3741 validated image filenames belonging to 3 classes.\n",
      "CPU times: user 180 ms, sys: 245 ms, total: 425 ms\n",
      "Wall time: 1.15 s\n"
     ]
    }
   ],
   "source": [
    "%%time\n",
    "train_generator = train_data_gen.flow_from_dataframe(\n",
    "    train_data, \n",
    "    x_col='filename',\n",
    "    y_col='category',\n",
    "    target_size=(224,224),\n",
    "    class_mode='categorical',\n",
    "    batch_size=15\n",
    ")"
   ]
  },
  {
   "cell_type": "code",
   "execution_count": 13,
   "metadata": {
    "colab": {
     "base_uri": "https://localhost:8080/"
    },
    "id": "Uyb-hDvmYrMH",
    "outputId": "ccd1f789-615d-49c3-f9f4-a02c0e7b883c"
   },
   "outputs": [
    {
     "name": "stdout",
     "output_type": "stream",
     "text": [
      "Found 802 validated image filenames belonging to 3 classes.\n",
      "CPU times: user 41.6 ms, sys: 51.7 ms, total: 93.3 ms\n",
      "Wall time: 251 ms\n"
     ]
    }
   ],
   "source": [
    "%%time\n",
    "valid_data_gen = ImageDataGenerator(rescale=1./255)\n",
    "\n",
    "valid_generator = valid_data_gen.flow_from_dataframe(\n",
    "    valid_data, \n",
    "    x_col='filename',\n",
    "    y_col='category',\n",
    "    target_size=(224,224),\n",
    "    class_mode='categorical',\n",
    "    batch_size=15\n",
    ")"
   ]
  },
  {
   "cell_type": "code",
   "execution_count": 13,
   "metadata": {
    "id": "YnaD4WdNYrJy"
   },
   "outputs": [],
   "source": []
  },
  {
   "cell_type": "markdown",
   "metadata": {
    "id": "cibZafWcYVH7"
   },
   "source": [
    "# Stacking ensembling of saved models"
   ]
  },
  {
   "cell_type": "code",
   "execution_count": 13,
   "metadata": {
    "id": "Eo_vnMUrnm40"
   },
   "outputs": [],
   "source": []
  },
  {
   "cell_type": "code",
   "execution_count": 14,
   "metadata": {
    "id": "YyGFjskynm40"
   },
   "outputs": [],
   "source": [
    "model1 = tf.keras.models.load_model('/content/drive/Othercomputers/My MacBook Air/Upgrad ML/LJMU_MS/Model Building/Kaggle run up with all metrices/VGG16_30epoc_0.5drop_7_3.h5')\n",
    "\n",
    "model2 = tf.keras.models.load_model('/content/drive/Othercomputers/My MacBook Air/Upgrad ML/LJMU_MS/Model Building/Kaggle run up with all metrices/ResNet_30epoc_0.5drop_7_3.h5')\n",
    "\n",
    "model3 = tf.keras.models.load_model('/content/drive/Othercomputers/My MacBook Air/Upgrad ML/LJMU_MS/Model Building/Kaggle run up with all metrices/DenseNet_30_epoc_0.5drop_7_3.h5')"
   ]
  },
  {
   "cell_type": "code",
   "execution_count": 15,
   "metadata": {
    "colab": {
     "base_uri": "https://localhost:8080/"
    },
    "id": "FZl2riGcnm40",
    "outputId": "524d5a87-1495-465a-9e6a-c9fd4e95f6d1"
   },
   "outputs": [
    {
     "name": "stdout",
     "output_type": "stream",
     "text": [
      "Looking in indexes: https://pypi.org/simple, https://us-python.pkg.dev/colab-wheels/public/simple/\n",
      "Collecting deepstack\n",
      "  Downloading deepstack-0.0.9-py3-none-any.whl (8.9 kB)\n",
      "Requirement already satisfied: numpy>=1.16.4 in /usr/local/lib/python3.7/dist-packages (from deepstack) (1.21.6)\n",
      "Requirement already satisfied: tensorflow>=1.14.0 in /usr/local/lib/python3.7/dist-packages (from deepstack) (2.9.2)\n",
      "Requirement already satisfied: keras>=2.2.5 in /usr/local/lib/python3.7/dist-packages (from deepstack) (2.9.0)\n",
      "Requirement already satisfied: scikit-learn>=0.21.2 in /usr/local/lib/python3.7/dist-packages (from deepstack) (1.0.2)\n",
      "Requirement already satisfied: scipy>=1.1.0 in /usr/local/lib/python3.7/dist-packages (from scikit-learn>=0.21.2->deepstack) (1.7.3)\n",
      "Requirement already satisfied: threadpoolctl>=2.0.0 in /usr/local/lib/python3.7/dist-packages (from scikit-learn>=0.21.2->deepstack) (3.1.0)\n",
      "Requirement already satisfied: joblib>=0.11 in /usr/local/lib/python3.7/dist-packages (from scikit-learn>=0.21.2->deepstack) (1.2.0)\n",
      "Requirement already satisfied: absl-py>=1.0.0 in /usr/local/lib/python3.7/dist-packages (from tensorflow>=1.14.0->deepstack) (1.3.0)\n",
      "Requirement already satisfied: libclang>=13.0.0 in /usr/local/lib/python3.7/dist-packages (from tensorflow>=1.14.0->deepstack) (14.0.6)\n",
      "Requirement already satisfied: packaging in /usr/local/lib/python3.7/dist-packages (from tensorflow>=1.14.0->deepstack) (21.3)\n",
      "Requirement already satisfied: tensorflow-io-gcs-filesystem>=0.23.1 in /usr/local/lib/python3.7/dist-packages (from tensorflow>=1.14.0->deepstack) (0.27.0)\n",
      "Requirement already satisfied: tensorflow-estimator<2.10.0,>=2.9.0rc0 in /usr/local/lib/python3.7/dist-packages (from tensorflow>=1.14.0->deepstack) (2.9.0)\n",
      "Requirement already satisfied: protobuf<3.20,>=3.9.2 in /usr/local/lib/python3.7/dist-packages (from tensorflow>=1.14.0->deepstack) (3.17.3)\n",
      "Requirement already satisfied: wrapt>=1.11.0 in /usr/local/lib/python3.7/dist-packages (from tensorflow>=1.14.0->deepstack) (1.14.1)\n",
      "Requirement already satisfied: six>=1.12.0 in /usr/local/lib/python3.7/dist-packages (from tensorflow>=1.14.0->deepstack) (1.15.0)\n",
      "Requirement already satisfied: google-pasta>=0.1.1 in /usr/local/lib/python3.7/dist-packages (from tensorflow>=1.14.0->deepstack) (0.2.0)\n",
      "Requirement already satisfied: termcolor>=1.1.0 in /usr/local/lib/python3.7/dist-packages (from tensorflow>=1.14.0->deepstack) (2.0.1)\n",
      "Requirement already satisfied: astunparse>=1.6.0 in /usr/local/lib/python3.7/dist-packages (from tensorflow>=1.14.0->deepstack) (1.6.3)\n",
      "Requirement already satisfied: tensorboard<2.10,>=2.9 in /usr/local/lib/python3.7/dist-packages (from tensorflow>=1.14.0->deepstack) (2.9.1)\n",
      "Requirement already satisfied: typing-extensions>=3.6.6 in /usr/local/lib/python3.7/dist-packages (from tensorflow>=1.14.0->deepstack) (4.1.1)\n",
      "Requirement already satisfied: opt-einsum>=2.3.2 in /usr/local/lib/python3.7/dist-packages (from tensorflow>=1.14.0->deepstack) (3.3.0)\n",
      "Requirement already satisfied: setuptools in /usr/local/lib/python3.7/dist-packages (from tensorflow>=1.14.0->deepstack) (57.4.0)\n",
      "Requirement already satisfied: grpcio<2.0,>=1.24.3 in /usr/local/lib/python3.7/dist-packages (from tensorflow>=1.14.0->deepstack) (1.50.0)\n",
      "Requirement already satisfied: h5py>=2.9.0 in /usr/local/lib/python3.7/dist-packages (from tensorflow>=1.14.0->deepstack) (3.1.0)\n",
      "Requirement already satisfied: flatbuffers<2,>=1.12 in /usr/local/lib/python3.7/dist-packages (from tensorflow>=1.14.0->deepstack) (1.12)\n",
      "Requirement already satisfied: gast<=0.4.0,>=0.2.1 in /usr/local/lib/python3.7/dist-packages (from tensorflow>=1.14.0->deepstack) (0.4.0)\n",
      "Requirement already satisfied: keras-preprocessing>=1.1.1 in /usr/local/lib/python3.7/dist-packages (from tensorflow>=1.14.0->deepstack) (1.1.2)\n",
      "Requirement already satisfied: wheel<1.0,>=0.23.0 in /usr/local/lib/python3.7/dist-packages (from astunparse>=1.6.0->tensorflow>=1.14.0->deepstack) (0.37.1)\n",
      "Requirement already satisfied: cached-property in /usr/local/lib/python3.7/dist-packages (from h5py>=2.9.0->tensorflow>=1.14.0->deepstack) (1.5.2)\n",
      "Requirement already satisfied: tensorboard-data-server<0.7.0,>=0.6.0 in /usr/local/lib/python3.7/dist-packages (from tensorboard<2.10,>=2.9->tensorflow>=1.14.0->deepstack) (0.6.1)\n",
      "Requirement already satisfied: markdown>=2.6.8 in /usr/local/lib/python3.7/dist-packages (from tensorboard<2.10,>=2.9->tensorflow>=1.14.0->deepstack) (3.4.1)\n",
      "Requirement already satisfied: werkzeug>=1.0.1 in /usr/local/lib/python3.7/dist-packages (from tensorboard<2.10,>=2.9->tensorflow>=1.14.0->deepstack) (1.0.1)\n",
      "Requirement already satisfied: google-auth<3,>=1.6.3 in /usr/local/lib/python3.7/dist-packages (from tensorboard<2.10,>=2.9->tensorflow>=1.14.0->deepstack) (1.35.0)\n",
      "Requirement already satisfied: google-auth-oauthlib<0.5,>=0.4.1 in /usr/local/lib/python3.7/dist-packages (from tensorboard<2.10,>=2.9->tensorflow>=1.14.0->deepstack) (0.4.6)\n",
      "Requirement already satisfied: requests<3,>=2.21.0 in /usr/local/lib/python3.7/dist-packages (from tensorboard<2.10,>=2.9->tensorflow>=1.14.0->deepstack) (2.23.0)\n",
      "Requirement already satisfied: tensorboard-plugin-wit>=1.6.0 in /usr/local/lib/python3.7/dist-packages (from tensorboard<2.10,>=2.9->tensorflow>=1.14.0->deepstack) (1.8.1)\n",
      "Requirement already satisfied: pyasn1-modules>=0.2.1 in /usr/local/lib/python3.7/dist-packages (from google-auth<3,>=1.6.3->tensorboard<2.10,>=2.9->tensorflow>=1.14.0->deepstack) (0.2.8)\n",
      "Requirement already satisfied: cachetools<5.0,>=2.0.0 in /usr/local/lib/python3.7/dist-packages (from google-auth<3,>=1.6.3->tensorboard<2.10,>=2.9->tensorflow>=1.14.0->deepstack) (4.2.4)\n",
      "Requirement already satisfied: rsa<5,>=3.1.4 in /usr/local/lib/python3.7/dist-packages (from google-auth<3,>=1.6.3->tensorboard<2.10,>=2.9->tensorflow>=1.14.0->deepstack) (4.9)\n",
      "Requirement already satisfied: requests-oauthlib>=0.7.0 in /usr/local/lib/python3.7/dist-packages (from google-auth-oauthlib<0.5,>=0.4.1->tensorboard<2.10,>=2.9->tensorflow>=1.14.0->deepstack) (1.3.1)\n",
      "Requirement already satisfied: importlib-metadata>=4.4 in /usr/local/lib/python3.7/dist-packages (from markdown>=2.6.8->tensorboard<2.10,>=2.9->tensorflow>=1.14.0->deepstack) (4.13.0)\n",
      "Requirement already satisfied: zipp>=0.5 in /usr/local/lib/python3.7/dist-packages (from importlib-metadata>=4.4->markdown>=2.6.8->tensorboard<2.10,>=2.9->tensorflow>=1.14.0->deepstack) (3.10.0)\n",
      "Requirement already satisfied: pyasn1<0.5.0,>=0.4.6 in /usr/local/lib/python3.7/dist-packages (from pyasn1-modules>=0.2.1->google-auth<3,>=1.6.3->tensorboard<2.10,>=2.9->tensorflow>=1.14.0->deepstack) (0.4.8)\n",
      "Requirement already satisfied: urllib3!=1.25.0,!=1.25.1,<1.26,>=1.21.1 in /usr/local/lib/python3.7/dist-packages (from requests<3,>=2.21.0->tensorboard<2.10,>=2.9->tensorflow>=1.14.0->deepstack) (1.24.3)\n",
      "Requirement already satisfied: chardet<4,>=3.0.2 in /usr/local/lib/python3.7/dist-packages (from requests<3,>=2.21.0->tensorboard<2.10,>=2.9->tensorflow>=1.14.0->deepstack) (3.0.4)\n",
      "Requirement already satisfied: certifi>=2017.4.17 in /usr/local/lib/python3.7/dist-packages (from requests<3,>=2.21.0->tensorboard<2.10,>=2.9->tensorflow>=1.14.0->deepstack) (2022.9.24)\n",
      "Requirement already satisfied: idna<3,>=2.5 in /usr/local/lib/python3.7/dist-packages (from requests<3,>=2.21.0->tensorboard<2.10,>=2.9->tensorflow>=1.14.0->deepstack) (2.10)\n",
      "Requirement already satisfied: oauthlib>=3.0.0 in /usr/local/lib/python3.7/dist-packages (from requests-oauthlib>=0.7.0->google-auth-oauthlib<0.5,>=0.4.1->tensorboard<2.10,>=2.9->tensorflow>=1.14.0->deepstack) (3.2.2)\n",
      "Requirement already satisfied: pyparsing!=3.0.5,>=2.0.2 in /usr/local/lib/python3.7/dist-packages (from packaging->tensorflow>=1.14.0->deepstack) (3.0.9)\n",
      "Installing collected packages: deepstack\n",
      "Successfully installed deepstack-0.0.9\n"
     ]
    }
   ],
   "source": [
    "! pip install deepstack"
   ]
  },
  {
   "cell_type": "code",
   "execution_count": 16,
   "metadata": {
    "colab": {
     "base_uri": "https://localhost:8080/"
    },
    "id": "7dxh_JManm40",
    "outputId": "445af292-1a64-4f99-e1ed-306c6febb20c"
   },
   "outputs": [
    {
     "name": "stdout",
     "output_type": "stream",
     "text": [
      "250/250 [==============================] - 750s 3s/step\n",
      "54/54 [==============================] - 151s 3s/step\n",
      "250/250 [==============================] - 54s 212ms/step\n",
      "54/54 [==============================] - 4s 79ms/step\n",
      "250/250 [==============================] - 56s 212ms/step\n",
      "54/54 [==============================] - 5s 91ms/step\n"
     ]
    }
   ],
   "source": [
    "from deepstack.base import KerasMember\n",
    "\n",
    "member1 = KerasMember(name=\"model1\", keras_model=model1, train_batches=train_generator, val_batches=valid_generator)\n",
    "member2 = KerasMember(name=\"model2\", keras_model=model2, train_batches=train_generator, val_batches=valid_generator)\n",
    "member3 = KerasMember(name=\"model3\", keras_model=model3, train_batches=train_generator, val_batches=valid_generator)"
   ]
  },
  {
   "cell_type": "code",
   "execution_count": 17,
   "metadata": {
    "colab": {
     "base_uri": "https://localhost:8080/"
    },
    "id": "a6vSlXb0nm40",
    "outputId": "87e8d5b4-da2f-495c-f78a-84b4e11df501"
   },
   "outputs": [
    {
     "name": "stdout",
     "output_type": "stream",
     "text": [
      "sklearn version must be >= 0.22. You have: 1.0.2\n",
      "Calling predict\n",
      "model1 - accuracy_score: 0.9726\n",
      "model2 - accuracy_score: 0.9972\n",
      "model3 - accuracy_score: 0.9950\n",
      "StackEnsemble accuracy_score: 0.9863\n"
     ]
    },
    {
     "data": {
      "text/plain": [
       "0.986284289276808"
      ]
     },
     "execution_count": 17,
     "metadata": {},
     "output_type": "execute_result"
    }
   ],
   "source": [
    "\n",
    "from deepstack.ensemble import StackEnsemble\n",
    "import sklearn\n",
    "from sklearn.linear_model import LogisticRegression\n",
    "from sklearn.ensemble import StackingClassifier\n",
    "from sklearn.ensemble import RandomForestClassifier\n",
    "from sklearn.ensemble import ExtraTreesClassifier\n",
    "\n",
    "#Ensure you have the scikit-learn version >= 0.22 installed\n",
    "print(\"sklearn version must be >= 0.22. You have:\", sklearn.__version__)\n",
    "\n",
    "stack = StackEnsemble()\n",
    "\n",
    "# 2nd Level Meta-Learner\n",
    "estimators = [\n",
    "    ('rf', RandomForestClassifier(verbose=0, n_estimators=400, max_depth=50, n_jobs=100, min_samples_split=30)),\n",
    "    ('etr', ExtraTreesClassifier(verbose=0, n_estimators=400, max_depth=40, n_jobs=100, min_samples_split=20))\n",
    "]\n",
    "# 3rd Level Meta-Learner\n",
    "clf = StackingClassifier(\n",
    "    estimators=estimators, final_estimator=LogisticRegression(),cv= 5, n_jobs= -1, passthrough = True)\n",
    "\n",
    "stack.model = clf\n",
    "stack.add_members([member1, member2, member3])\n",
    "stack.fit()\n",
    "stack.describe(metric=sklearn.metrics.accuracy_score)"
   ]
  },
  {
   "cell_type": "code",
   "execution_count": 19,
   "metadata": {
    "colab": {
     "base_uri": "https://localhost:8080/"
    },
    "id": "hgxuXWlAnm40",
    "outputId": "34c6f9f3-2f8c-4eb0-f94f-7f0376da5d82"
   },
   "outputs": [
    {
     "name": "stdout",
     "output_type": "stream",
     "text": [
      "model1 - Weight: 0.3489 - roc_auc_score: 0.9726\n",
      "model2 - Weight: 0.2796 - roc_auc_score: 0.9972\n",
      "model3 - Weight: 0.3715 - roc_auc_score: 0.9950\n",
      "DirichletEnsemble roc_auc_score: 0.9991\n"
     ]
    }
   ],
   "source": [
    "\n",
    "from deepstack.ensemble import DirichletEnsemble\n",
    "\n",
    "wAvgEnsemble = DirichletEnsemble()\n",
    "wAvgEnsemble.add_members([member1, member2, member3])\n",
    "wAvgEnsemble.fit()\n",
    "wAvgEnsemble.describe()\n"
   ]
  },
  {
   "cell_type": "code",
   "execution_count": null,
   "metadata": {
    "id": "BjYNOXAYbLOg"
   },
   "outputs": [],
   "source": []
  }
 ],
 "metadata": {
  "accelerator": "GPU",
  "colab": {
   "collapsed_sections": [],
   "provenance": []
  },
  "kernelspec": {
   "display_name": "Python 3 (ipykernel)",
   "language": "python",
   "name": "python3"
  },
  "language_info": {
   "codemirror_mode": {
    "name": "ipython",
    "version": 3
   },
   "file_extension": ".py",
   "mimetype": "text/x-python",
   "name": "python",
   "nbconvert_exporter": "python",
   "pygments_lexer": "ipython3",
   "version": "3.10.0"
  }
 },
 "nbformat": 4,
 "nbformat_minor": 4
}
